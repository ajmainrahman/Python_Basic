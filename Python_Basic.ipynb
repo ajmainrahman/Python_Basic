{
  "nbformat": 4,
  "nbformat_minor": 0,
  "metadata": {
    "colab": {
      "provenance": [],
      "authorship_tag": "ABX9TyNVXvN7TLzbmo88MpCPtuvn",
      "include_colab_link": true
    },
    "kernelspec": {
      "name": "python3",
      "display_name": "Python 3"
    },
    "language_info": {
      "name": "python"
    }
  },
  "cells": [
    {
      "cell_type": "markdown",
      "metadata": {
        "id": "view-in-github",
        "colab_type": "text"
      },
      "source": [
        "<a href=\"https://colab.research.google.com/github/ajmainrahman/Getting-Started-with-Python/blob/main/Python_Basic.ipynb\" target=\"_parent\"><img src=\"https://colab.research.google.com/assets/colab-badge.svg\" alt=\"Open In Colab\"/></a>"
      ]
    },
    {
      "cell_type": "code",
      "execution_count": null,
      "metadata": {
        "id": "O97GYuug0Rwv"
      },
      "outputs": [],
      "source": [
        "creditcard_bill = 10000\n",
        "water_bill = 500\n",
        "gas_bill = 300\n",
        "electricity_bill  = 500"
      ]
    },
    {
      "cell_type": "code",
      "source": [
        "total_bill  = creditcard_bill + water_bill + gas_bill + electricity_bill"
      ],
      "metadata": {
        "id": "NtmNLvwD2lwF"
      },
      "execution_count": null,
      "outputs": []
    },
    {
      "cell_type": "code",
      "source": [
        "print(total_bill)"
      ],
      "metadata": {
        "colab": {
          "base_uri": "https://localhost:8080/"
        },
        "id": "bH67w1oU2v5R",
        "outputId": "9dd6339f-2507-4be5-ce8c-9d897065e5f8"
      },
      "execution_count": null,
      "outputs": [
        {
          "output_type": "stream",
          "name": "stdout",
          "text": [
            "11300\n"
          ]
        }
      ]
    },
    {
      "cell_type": "code",
      "source": [
        "8+5"
      ],
      "metadata": {
        "colab": {
          "base_uri": "https://localhost:8080/"
        },
        "id": "Mcb8v1qn2z3O",
        "outputId": "5c6682e2-f692-4b8a-f637-65e2ed08f203"
      },
      "execution_count": null,
      "outputs": [
        {
          "output_type": "execute_result",
          "data": {
            "text/plain": [
              "13"
            ]
          },
          "metadata": {},
          "execution_count": 5
        }
      ]
    },
    {
      "cell_type": "code",
      "source": [
        "a = 8 + 5\n",
        "print(a)"
      ],
      "metadata": {
        "colab": {
          "base_uri": "https://localhost:8080/"
        },
        "id": "QQEVyQ6y34Gg",
        "outputId": "40b46935-2e60-4c3c-c6d6-5d33c8f46841"
      },
      "execution_count": null,
      "outputs": [
        {
          "output_type": "stream",
          "name": "stdout",
          "text": [
            "13\n"
          ]
        }
      ]
    },
    {
      "cell_type": "code",
      "source": [
        "b = 15/3\n",
        "type(b)"
      ],
      "metadata": {
        "colab": {
          "base_uri": "https://localhost:8080/"
        },
        "id": "-GVp4ipz36vg",
        "outputId": "14c0925f-85f8-4ee2-df33-5ef9f9c51f56"
      },
      "execution_count": null,
      "outputs": [
        {
          "output_type": "execute_result",
          "data": {
            "text/plain": [
              "float"
            ]
          },
          "metadata": {},
          "execution_count": 12
        }
      ]
    },
    {
      "cell_type": "code",
      "source": [
        "15%4"
      ],
      "metadata": {
        "colab": {
          "base_uri": "https://localhost:8080/"
        },
        "id": "uMNMW2oi4GKf",
        "outputId": "160243a1-d60a-45af-903a-5aef1edea9f8"
      },
      "execution_count": null,
      "outputs": [
        {
          "output_type": "execute_result",
          "data": {
            "text/plain": [
              "3"
            ]
          },
          "metadata": {},
          "execution_count": 13
        }
      ]
    },
    {
      "cell_type": "code",
      "source": [
        "20%6"
      ],
      "metadata": {
        "colab": {
          "base_uri": "https://localhost:8080/"
        },
        "id": "QaGNtTIK4SVJ",
        "outputId": "4178375e-51f4-44da-b9c7-03cfcb56ed39"
      },
      "execution_count": null,
      "outputs": [
        {
          "output_type": "execute_result",
          "data": {
            "text/plain": [
              "2"
            ]
          },
          "metadata": {},
          "execution_count": 14
        }
      ]
    },
    {
      "cell_type": "code",
      "source": [
        "3**2"
      ],
      "metadata": {
        "colab": {
          "base_uri": "https://localhost:8080/"
        },
        "id": "WsVctCG04XQo",
        "outputId": "2958cadc-94f3-46ee-b667-0f98498d0c0c"
      },
      "execution_count": null,
      "outputs": [
        {
          "output_type": "execute_result",
          "data": {
            "text/plain": [
              "9"
            ]
          },
          "metadata": {},
          "execution_count": 16
        }
      ]
    },
    {
      "cell_type": "code",
      "source": [
        "c = 3.14163783756768275634"
      ],
      "metadata": {
        "id": "ZMtd9Qs24oTh"
      },
      "execution_count": null,
      "outputs": []
    },
    {
      "cell_type": "code",
      "source": [
        "c"
      ],
      "metadata": {
        "colab": {
          "base_uri": "https://localhost:8080/"
        },
        "id": "3a9b3tiO45m5",
        "outputId": "fbff3de4-91a7-4679-cd25-ff1f86eeb5ef"
      },
      "execution_count": null,
      "outputs": [
        {
          "output_type": "execute_result",
          "data": {
            "text/plain": [
              "3.1416378375676826"
            ]
          },
          "metadata": {},
          "execution_count": 24
        }
      ]
    },
    {
      "cell_type": "code",
      "source": [
        "round(c,10)"
      ],
      "metadata": {
        "colab": {
          "base_uri": "https://localhost:8080/"
        },
        "id": "yv9TBBcy46Qx",
        "outputId": "a7daf3bc-0529-4939-eac5-94789ef5c872"
      },
      "execution_count": null,
      "outputs": [
        {
          "output_type": "execute_result",
          "data": {
            "text/plain": [
              "3.1416378376"
            ]
          },
          "metadata": {},
          "execution_count": 25
        }
      ]
    },
    {
      "cell_type": "code",
      "source": [
        "a = 'Ajmain Rahman'"
      ],
      "metadata": {
        "id": "u3QJU3Ab5ApJ"
      },
      "execution_count": null,
      "outputs": []
    },
    {
      "cell_type": "code",
      "source": [
        "print(a)"
      ],
      "metadata": {
        "colab": {
          "base_uri": "https://localhost:8080/"
        },
        "id": "4RgoMLCu5Ozo",
        "outputId": "349dd3e2-8181-42b4-85e9-8d195c215f8f"
      },
      "execution_count": null,
      "outputs": [
        {
          "output_type": "stream",
          "name": "stdout",
          "text": [
            "Ajmain Rahman\n"
          ]
        }
      ]
    },
    {
      "cell_type": "code",
      "source": [
        "a[7:]"
      ],
      "metadata": {
        "colab": {
          "base_uri": "https://localhost:8080/",
          "height": 35
        },
        "id": "jxXDY8YG5lbC",
        "outputId": "f909541b-c449-4d13-b1c9-87f7bfe8ba07"
      },
      "execution_count": null,
      "outputs": [
        {
          "output_type": "execute_result",
          "data": {
            "text/plain": [
              "'Rahman'"
            ],
            "application/vnd.google.colaboratory.intrinsic+json": {
              "type": "string"
            }
          },
          "metadata": {},
          "execution_count": 44
        }
      ]
    },
    {
      "cell_type": "code",
      "source": [
        "a.count('a',6,12)"
      ],
      "metadata": {
        "colab": {
          "base_uri": "https://localhost:8080/"
        },
        "id": "NjbJnghN5oFe",
        "outputId": "adc207eb-f490-43a2-e37b-e34c6ae53fff"
      },
      "execution_count": null,
      "outputs": [
        {
          "output_type": "execute_result",
          "data": {
            "text/plain": [
              "2"
            ]
          },
          "metadata": {},
          "execution_count": 50
        }
      ]
    },
    {
      "cell_type": "code",
      "source": [
        "print(len(a))"
      ],
      "metadata": {
        "colab": {
          "base_uri": "https://localhost:8080/"
        },
        "id": "Ql4cHIrg7Cwp",
        "outputId": "8059f5d4-95ff-4ac5-f8a7-32404fbfe770"
      },
      "execution_count": null,
      "outputs": [
        {
          "output_type": "stream",
          "name": "stdout",
          "text": [
            "13\n"
          ]
        }
      ]
    },
    {
      "cell_type": "code",
      "source": [
        "b = 'peace begins with a smile'"
      ],
      "metadata": {
        "id": "c6ptQX5Y7IU7"
      },
      "execution_count": null,
      "outputs": []
    },
    {
      "cell_type": "code",
      "source": [
        "b.find('with')"
      ],
      "metadata": {
        "colab": {
          "base_uri": "https://localhost:8080/"
        },
        "id": "Rr_toGIw7T4T",
        "outputId": "35ea048a-fe71-4bdc-fdcf-48a3328f52d9"
      },
      "execution_count": null,
      "outputs": [
        {
          "output_type": "execute_result",
          "data": {
            "text/plain": [
              "13"
            ]
          },
          "metadata": {},
          "execution_count": 54
        }
      ]
    },
    {
      "cell_type": "code",
      "source": [
        "b.upper()"
      ],
      "metadata": {
        "colab": {
          "base_uri": "https://localhost:8080/",
          "height": 35
        },
        "id": "wXvIq5Lb7aVN",
        "outputId": "0aab01ce-c199-4a90-cff4-e105d3572a1b"
      },
      "execution_count": null,
      "outputs": [
        {
          "output_type": "execute_result",
          "data": {
            "text/plain": [
              "'PEACE BEGINS WITH A SMILE'"
            ],
            "application/vnd.google.colaboratory.intrinsic+json": {
              "type": "string"
            }
          },
          "metadata": {},
          "execution_count": 55
        }
      ]
    },
    {
      "cell_type": "code",
      "source": [
        "b.lower()"
      ],
      "metadata": {
        "colab": {
          "base_uri": "https://localhost:8080/",
          "height": 35
        },
        "id": "o0CCe3u97tlx",
        "outputId": "fba0abbc-09ab-4629-d62a-bfa817f2fc7d"
      },
      "execution_count": null,
      "outputs": [
        {
          "output_type": "execute_result",
          "data": {
            "text/plain": [
              "'peace begins with a smile'"
            ],
            "application/vnd.google.colaboratory.intrinsic+json": {
              "type": "string"
            }
          },
          "metadata": {},
          "execution_count": 56
        }
      ]
    },
    {
      "cell_type": "code",
      "source": [
        "x = '1-04-23'"
      ],
      "metadata": {
        "id": "2Vpri3bk7ufI"
      },
      "execution_count": null,
      "outputs": []
    },
    {
      "cell_type": "code",
      "source": [
        "type(x)"
      ],
      "metadata": {
        "colab": {
          "base_uri": "https://localhost:8080/"
        },
        "id": "IENNNYd372Tg",
        "outputId": "4e6bb90a-994d-43b9-bf4a-89710223b52d"
      },
      "execution_count": null,
      "outputs": [
        {
          "output_type": "execute_result",
          "data": {
            "text/plain": [
              "str"
            ]
          },
          "metadata": {},
          "execution_count": 60
        }
      ]
    },
    {
      "cell_type": "code",
      "source": [
        "x.split('-')"
      ],
      "metadata": {
        "colab": {
          "base_uri": "https://localhost:8080/"
        },
        "id": "jqGNcYZH73AI",
        "outputId": "de037b22-a4a4-4bc0-9d4e-67ca7109b4e6"
      },
      "execution_count": null,
      "outputs": [
        {
          "output_type": "execute_result",
          "data": {
            "text/plain": [
              "['1', '04', '23']"
            ]
          },
          "metadata": {},
          "execution_count": 64
        }
      ]
    },
    {
      "cell_type": "code",
      "source": [
        "a = input(\"Enter your number here: \")"
      ],
      "metadata": {
        "colab": {
          "base_uri": "https://localhost:8080/"
        },
        "id": "_Yz0d_dF78II",
        "outputId": "61807fed-d712-4f86-e4cd-e876f01de061"
      },
      "execution_count": null,
      "outputs": [
        {
          "name": "stdout",
          "output_type": "stream",
          "text": [
            "Enter your number here: 21\n"
          ]
        }
      ]
    },
    {
      "cell_type": "code",
      "source": [
        "a = int(a)"
      ],
      "metadata": {
        "id": "WEZRDrl794Ag"
      },
      "execution_count": null,
      "outputs": []
    },
    {
      "cell_type": "code",
      "source": [
        "type(a)"
      ],
      "metadata": {
        "colab": {
          "base_uri": "https://localhost:8080/"
        },
        "id": "JWxOa1tw95l5",
        "outputId": "920c46d9-3763-46e2-a76e-c48e3da8b1dc"
      },
      "execution_count": null,
      "outputs": [
        {
          "output_type": "execute_result",
          "data": {
            "text/plain": [
              "int"
            ]
          },
          "metadata": {},
          "execution_count": 84
        }
      ]
    },
    {
      "cell_type": "code",
      "source": [
        "if a%2==0:\n",
        "  print('Even')\n",
        "else:\n",
        "  print('Odd')"
      ],
      "metadata": {
        "colab": {
          "base_uri": "https://localhost:8080/"
        },
        "id": "VvsmHUPO-Dia",
        "outputId": "c7069058-d5a0-4096-866d-3a42ab89c0dc"
      },
      "execution_count": null,
      "outputs": [
        {
          "output_type": "stream",
          "name": "stdout",
          "text": [
            "Odd\n"
          ]
        }
      ]
    },
    {
      "cell_type": "code",
      "source": [
        "bengali = ['Bhat','Dal','Alo bhorta','Dim vaji']\n",
        "chinese = ['Fried Rice','peking duck','vegetable salad']\n",
        "indian = ['dosa','poha','alo paratha']"
      ],
      "metadata": {
        "id": "55bE_OT7-Rnr"
      },
      "execution_count": null,
      "outputs": []
    },
    {
      "cell_type": "code",
      "source": [
        "dish = input('Your dish name is: ')\n",
        "\n",
        "if dish in bengali:\n",
        "  print('This is a bengali dish')\n",
        "elif dish in chinese:\n",
        "  print('This is a chainese dish')\n",
        "elif dish is indian:\n",
        "  print('This is a indian dish')\n",
        "else:\n",
        "  print(\"Please write the correct dish name\")"
      ],
      "metadata": {
        "colab": {
          "base_uri": "https://localhost:8080/"
        },
        "id": "b_WRKYe--8dr",
        "outputId": "9ff8c757-f3f8-4b6f-d663-12213e94c29a"
      },
      "execution_count": null,
      "outputs": [
        {
          "output_type": "stream",
          "name": "stdout",
          "text": [
            "Your dish name is: chicken fry\n",
            "Please write the correct dish name\n"
          ]
        }
      ]
    },
    {
      "cell_type": "code",
      "source": [
        "chocolate = ['safari','kitkat','mimi','dairymilk','bounty']"
      ],
      "metadata": {
        "id": "5M8iXLt9_AgK"
      },
      "execution_count": null,
      "outputs": []
    },
    {
      "cell_type": "code",
      "source": [
        "for i in chocolate:\n",
        "  if i == 'safari':\n",
        "    print('Yes! I have found my favourite chocolate')\n",
        "    break\n",
        "  else:\n",
        "    print('Desired Chocolate is not found yet')"
      ],
      "metadata": {
        "colab": {
          "base_uri": "https://localhost:8080/"
        },
        "id": "OCFyGeLRCjzH",
        "outputId": "f4ba4d35-07ec-43a6-e121-8f2e76d1c01b"
      },
      "execution_count": null,
      "outputs": [
        {
          "output_type": "stream",
          "name": "stdout",
          "text": [
            "Yes! I have found my favourite chocolate\n"
          ]
        }
      ]
    },
    {
      "cell_type": "code",
      "source": [
        "location = ['living room','drawing room','guest room','garden','kitchen','washroom']"
      ],
      "metadata": {
        "id": "8LAhD1gcCk5x"
      },
      "execution_count": null,
      "outputs": []
    },
    {
      "cell_type": "code",
      "source": [
        "input1 = input(\"Enter your location here: \")"
      ],
      "metadata": {
        "colab": {
          "base_uri": "https://localhost:8080/"
        },
        "id": "uLFR7WhtFSup",
        "outputId": "9233ed04-8a82-468b-d222-7dff47decfd5"
      },
      "execution_count": null,
      "outputs": [
        {
          "name": "stdout",
          "output_type": "stream",
          "text": [
            "Enter your location here: garden\n"
          ]
        }
      ]
    },
    {
      "cell_type": "code",
      "source": [
        "for key in location:\n",
        "  if key == input1:\n",
        "    print('I have found my car key. Stop Searching')\n",
        "    break\n",
        "  else:\n",
        "    print('Car key is not found yet')"
      ],
      "metadata": {
        "colab": {
          "base_uri": "https://localhost:8080/"
        },
        "id": "L3nHXBUzEy3K",
        "outputId": "a3100479-83b4-4a3a-83ca-d69fc389b52a"
      },
      "execution_count": null,
      "outputs": [
        {
          "output_type": "stream",
          "name": "stdout",
          "text": [
            "Car key is not found yet\n",
            "Car key is not found yet\n",
            "Car key is not found yet\n",
            "I have found my car key. Stop Searching\n"
          ]
        }
      ]
    },
    {
      "cell_type": "code",
      "source": [
        "for i in range(1,11):\n",
        "  if i % 2 == 0:\n",
        "    continue\n",
        "  else:\n",
        "    print(i*i)"
      ],
      "metadata": {
        "colab": {
          "base_uri": "https://localhost:8080/"
        },
        "id": "Xfd9gPTWFLIh",
        "outputId": "0fa4c64a-a5b1-44a9-9f12-7181fb260331"
      },
      "execution_count": null,
      "outputs": [
        {
          "output_type": "stream",
          "name": "stdout",
          "text": [
            "1\n",
            "9\n",
            "25\n",
            "49\n",
            "81\n"
          ]
        }
      ]
    },
    {
      "cell_type": "code",
      "source": [
        "for i in range(1,10):\n",
        "  print(i)"
      ],
      "metadata": {
        "colab": {
          "base_uri": "https://localhost:8080/"
        },
        "id": "1peV-1dzIS6U",
        "outputId": "b2674fb9-1c5d-4c95-d751-b2d551e52fb1"
      },
      "execution_count": null,
      "outputs": [
        {
          "output_type": "stream",
          "name": "stdout",
          "text": [
            "1\n",
            "2\n",
            "3\n",
            "4\n",
            "5\n",
            "6\n",
            "7\n",
            "8\n",
            "9\n"
          ]
        }
      ]
    },
    {
      "cell_type": "code",
      "source": [
        "elctricity_bill = [100,200,300,400,500]\n",
        "gas_bill = [200,150,630,800,900]\n",
        "water_bill = [100,150,200,130,120]"
      ],
      "metadata": {
        "id": "Zn6TDHJbJEZy"
      },
      "execution_count": null,
      "outputs": []
    },
    {
      "cell_type": "code",
      "source": [
        "total = 0\n",
        "for i in elctricity_bill:\n",
        "  total = total+i\n",
        "print(total)"
      ],
      "metadata": {
        "colab": {
          "base_uri": "https://localhost:8080/"
        },
        "id": "-BAq_YFgKX8B",
        "outputId": "0eaf104b-9f22-4f65-891a-7847e247746b"
      },
      "execution_count": null,
      "outputs": [
        {
          "output_type": "stream",
          "name": "stdout",
          "text": [
            "1500\n"
          ]
        }
      ]
    },
    {
      "cell_type": "code",
      "source": [
        "total = 0\n",
        "for i in gas_bill:\n",
        "  total = total+i\n",
        "print(total)"
      ],
      "metadata": {
        "colab": {
          "base_uri": "https://localhost:8080/"
        },
        "id": "-RDKEa1jKjPb",
        "outputId": "ff391e8f-13c6-4adb-d8d8-58d374e8d2d7"
      },
      "execution_count": null,
      "outputs": [
        {
          "output_type": "stream",
          "name": "stdout",
          "text": [
            "2680\n"
          ]
        }
      ]
    },
    {
      "cell_type": "code",
      "source": [
        "total = 0\n",
        "for i in water_bill:\n",
        "  total = total+i\n",
        "print(total)"
      ],
      "metadata": {
        "colab": {
          "base_uri": "https://localhost:8080/"
        },
        "id": "cgflC3BlKvyB",
        "outputId": "f02c2819-fbf9-45eb-9fe0-27b74b83f57b"
      },
      "execution_count": null,
      "outputs": [
        {
          "output_type": "stream",
          "name": "stdout",
          "text": [
            "700\n"
          ]
        }
      ]
    },
    {
      "cell_type": "code",
      "source": [
        "def calcu_late(bill):\n",
        "  total = 0\n",
        "  for i in bill:\n",
        "    total = total +i\n",
        "  print('Total bill is: ',total)"
      ],
      "metadata": {
        "id": "RA_4mpWKK6JB"
      },
      "execution_count": null,
      "outputs": []
    },
    {
      "cell_type": "code",
      "source": [
        "calcu_late(elctricity_bill)\n",
        "calcu_late(gas_bill)\n",
        "calcu_late(water_bill)"
      ],
      "metadata": {
        "colab": {
          "base_uri": "https://localhost:8080/"
        },
        "id": "EL5LawYCLQFq",
        "outputId": "8689c980-ed27-4bc3-aefa-0d8e9d178232"
      },
      "execution_count": null,
      "outputs": [
        {
          "output_type": "stream",
          "name": "stdout",
          "text": [
            "Total bill is:  1500\n",
            "Total bill is:  2680\n",
            "Total bill is:  700\n"
          ]
        }
      ]
    },
    {
      "cell_type": "code",
      "source": [
        "def add(a,b):\n",
        "  sum = a+b\n",
        "  print('Addition of two number are = ',sum)"
      ],
      "metadata": {
        "id": "jbBZHwPoLYXq"
      },
      "execution_count": null,
      "outputs": []
    },
    {
      "cell_type": "code",
      "source": [
        "add(10,20)"
      ],
      "metadata": {
        "colab": {
          "base_uri": "https://localhost:8080/"
        },
        "id": "ZigfCgztMcYx",
        "outputId": "5b25796a-a209-4e5f-9fd8-3d71cef35ec0"
      },
      "execution_count": null,
      "outputs": [
        {
          "output_type": "stream",
          "name": "stdout",
          "text": [
            "Addition of two number are =  30\n"
          ]
        }
      ]
    },
    {
      "cell_type": "code",
      "source": [
        "#JSON - DICTONARY"
      ],
      "metadata": {
        "id": "j23wsXSXMliR"
      },
      "execution_count": null,
      "outputs": []
    },
    {
      "cell_type": "code",
      "source": [
        "book[\"Ajmain\"] = {\n",
        "    \"Name\": \"Ajmain\",\n",
        "    'Address': 'Dhaka',\n",
        "    'Phone': 12345456\n",
        "}"
      ],
      "metadata": {
        "colab": {
          "base_uri": "https://localhost:8080/",
          "height": 235
        },
        "id": "oqFpV4yscIy6",
        "outputId": "1c72fe53-dd67-4651-cb2d-82db26292f4a"
      },
      "execution_count": 5,
      "outputs": [
        {
          "output_type": "error",
          "ename": "NameError",
          "evalue": "ignored",
          "traceback": [
            "\u001b[0;31m---------------------------------------------------------------------------\u001b[0m",
            "\u001b[0;31mNameError\u001b[0m                                 Traceback (most recent call last)",
            "\u001b[0;32m<ipython-input-5-fd2eb1dd7779>\u001b[0m in \u001b[0;36m<cell line: 2>\u001b[0;34m()\u001b[0m\n\u001b[0;32m----> 1\u001b[0;31m book[\"Ajmain\"] = {\n\u001b[0m\u001b[1;32m      2\u001b[0m     \u001b[0;34m\"Name\"\u001b[0m\u001b[0;34m:\u001b[0m \u001b[0;34m\"Ajmain\"\u001b[0m\u001b[0;34m,\u001b[0m\u001b[0;34m\u001b[0m\u001b[0;34m\u001b[0m\u001b[0m\n\u001b[1;32m      3\u001b[0m     \u001b[0;34m'Address'\u001b[0m\u001b[0;34m:\u001b[0m \u001b[0;34m'Dhaka'\u001b[0m\u001b[0;34m,\u001b[0m\u001b[0;34m\u001b[0m\u001b[0;34m\u001b[0m\u001b[0m\n\u001b[1;32m      4\u001b[0m     \u001b[0;34m'Phone'\u001b[0m\u001b[0;34m:\u001b[0m \u001b[0;36m12345456\u001b[0m\u001b[0;34m\u001b[0m\u001b[0;34m\u001b[0m\u001b[0m\n\u001b[1;32m      5\u001b[0m }\n",
            "\u001b[0;31mNameError\u001b[0m: name 'book' is not defined"
          ]
        }
      ]
    },
    {
      "cell_type": "code",
      "source": [
        "class math_operation():\n",
        "  def __init__(self,a,b):\n",
        "    self.a=a\n",
        "    self.b=b\n",
        "  def add1(self):\n",
        "    c = self.a+self.b \n",
        "    return c\n",
        "  def mul(self):\n",
        "    c = self.a*self.b\n",
        "    return c\n",
        "  def divi(self):\n",
        "    c = self.a/self.b\n",
        "    return c"
      ],
      "metadata": {
        "id": "34cU5LIEddw3"
      },
      "execution_count": 20,
      "outputs": []
    },
    {
      "cell_type": "code",
      "source": [
        "first = math_operation(20,30)\n",
        "second = math_operation(40,20)"
      ],
      "metadata": {
        "id": "2TphcArhg73s"
      },
      "execution_count": 21,
      "outputs": []
    },
    {
      "cell_type": "code",
      "source": [
        "second.add1()"
      ],
      "metadata": {
        "colab": {
          "base_uri": "https://localhost:8080/"
        },
        "id": "LTHCagtohjT1",
        "outputId": "aabd8d02-81af-4863-a028-971726bb40c6"
      },
      "execution_count": 25,
      "outputs": [
        {
          "output_type": "execute_result",
          "data": {
            "text/plain": [
              "60"
            ]
          },
          "metadata": {},
          "execution_count": 25
        }
      ]
    },
    {
      "cell_type": "code",
      "source": [
        "first.mul()"
      ],
      "metadata": {
        "colab": {
          "base_uri": "https://localhost:8080/"
        },
        "id": "dWpO7pyBiGD1",
        "outputId": "dd45dbfb-c392-4e2d-8b4f-2082fcaccc38"
      },
      "execution_count": 23,
      "outputs": [
        {
          "output_type": "execute_result",
          "data": {
            "text/plain": [
              "600"
            ]
          },
          "metadata": {},
          "execution_count": 23
        }
      ]
    },
    {
      "cell_type": "code",
      "source": [
        "first.divi()"
      ],
      "metadata": {
        "colab": {
          "base_uri": "https://localhost:8080/"
        },
        "id": "9CTEN9BBiOcU",
        "outputId": "7fd560da-e98b-4578-a9cc-7bfe298b640c"
      },
      "execution_count": 24,
      "outputs": [
        {
          "output_type": "execute_result",
          "data": {
            "text/plain": [
              "0.6666666666666666"
            ]
          },
          "metadata": {},
          "execution_count": 24
        }
      ]
    },
    {
      "cell_type": "code",
      "source": [
        "#Inheritance "
      ],
      "metadata": {
        "id": "oyj9EgCAiV2s"
      },
      "execution_count": 26,
      "outputs": []
    },
    {
      "cell_type": "code",
      "source": [
        "class vehicle:\n",
        "  def general_purpose(self):\n",
        "    print('General Purpose: Transportation')\n",
        "class Car(vehicle):\n",
        "  def __init__(self,wheel,roof):\n",
        "    print(\"This is car\")\n",
        "    self.wheel= 4\n",
        "    self.roof = True\n",
        "  def specific_purpose(self):\n",
        "    print(\"Specific purpose: Office commute, Road Trip\")\n",
        "class motor_cycle(vehicle):\n",
        "  def __init__(self,wheel,roof):\n",
        "    self.wheel=2\n",
        "    self.roof=False\n",
        "  def specific_purpose(self):\n",
        "    print(\"specific_purpose: Racing, Highway ride\")\n",
        "    print(self.wheel)"
      ],
      "metadata": {
        "id": "B1Xwv1w1k3K-"
      },
      "execution_count": 27,
      "outputs": []
    },
    {
      "cell_type": "code",
      "source": [
        "c = Car(4,True)\n",
        "c.specific_purpose()"
      ],
      "metadata": {
        "colab": {
          "base_uri": "https://localhost:8080/"
        },
        "id": "gqU9zGlCn7-f",
        "outputId": "23d89982-9d15-4c7b-b435-cdd659238c19"
      },
      "execution_count": 29,
      "outputs": [
        {
          "output_type": "stream",
          "name": "stdout",
          "text": [
            "This is car\n",
            "Specific purpose: Office commute, Road Trip\n"
          ]
        }
      ]
    },
    {
      "cell_type": "code",
      "source": [
        "c.general_purpose()"
      ],
      "metadata": {
        "colab": {
          "base_uri": "https://localhost:8080/"
        },
        "id": "bqqenVeUoAEP",
        "outputId": "64c13c79-c986-4b21-f1c1-aef5f527f509"
      },
      "execution_count": 30,
      "outputs": [
        {
          "output_type": "stream",
          "name": "stdout",
          "text": [
            "General Purpose: Transportation\n"
          ]
        }
      ]
    },
    {
      "cell_type": "code",
      "source": [
        "mc = motor_cycle(2,False)\n",
        "mc.specific_purpose()"
      ],
      "metadata": {
        "colab": {
          "base_uri": "https://localhost:8080/"
        },
        "id": "i8kMi7qmoDtV",
        "outputId": "f8e5b27c-d2e9-4aa2-d70b-095cb1e2c897"
      },
      "execution_count": 32,
      "outputs": [
        {
          "output_type": "stream",
          "name": "stdout",
          "text": [
            "specific_purpose: Racing, Highway ride\n",
            "2\n"
          ]
        }
      ]
    },
    {
      "cell_type": "code",
      "source": [
        "mc.general_purpose()"
      ],
      "metadata": {
        "colab": {
          "base_uri": "https://localhost:8080/"
        },
        "id": "TcNfSOQhoIYU",
        "outputId": "ff941d8a-ecd4-4a56-bfa7-805ba57c6ca4"
      },
      "execution_count": 33,
      "outputs": [
        {
          "output_type": "stream",
          "name": "stdout",
          "text": [
            "General Purpose: Transportation\n"
          ]
        }
      ]
    },
    {
      "cell_type": "code",
      "source": [],
      "metadata": {
        "id": "s-SdM_WZoNZm"
      },
      "execution_count": null,
      "outputs": []
    }
  ]
}